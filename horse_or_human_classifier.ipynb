{
 "cells": [
  {
   "cell_type": "code",
   "execution_count": 1,
   "metadata": {},
   "outputs": [],
   "source": [
    "from keras.preprocessing.image import ImageDataGenerator\n",
    "import keras\n",
    "from keras.optimizers import RMSprop\n",
    "from keras.preprocessing.image import load_img\n",
    "import numpy as np"
   ]
  },
  {
   "cell_type": "code",
   "execution_count": 2,
   "metadata": {},
   "outputs": [],
   "source": [
    "train_generator = ImageDataGenerator(rescale = 1/255.0)    ### when we use data generators we dont have to perform labelling\n",
    "##test_generator = ImageDataGenerator(rescale = 1/2550.)            ### it takes care of labelling"
   ]
  },
  {
   "cell_type": "code",
   "execution_count": 3,
   "metadata": {},
   "outputs": [
    {
     "name": "stdout",
     "output_type": "stream",
     "text": [
      "Found 1027 images belonging to 1 classes.\n"
     ]
    }
   ],
   "source": [
    "train_g = train_generator.flow_from_directory('horse-or-human' , target_size = (300 ,300) , batch_size = 128 , class_mode = 'binary')"
   ]
  },
  {
   "cell_type": "code",
   "execution_count": 4,
   "metadata": {},
   "outputs": [],
   "source": [
    "model = keras.Sequential([keras.layers.Conv2D(16 , (3,3) , activation= 'relu' , input_shape = (300 , 300 ,3)) , \n",
    "                         keras.layers.MaxPooling2D(2,2),\n",
    "                         keras.layers.Conv2D(32 , (3,3) , activation= 'relu' ), \n",
    "                         keras.layers.MaxPooling2D(2,2),\n",
    "                         keras.layers.Conv2D(64 , (3,3) , activation= 'relu' ) , \n",
    "                         keras.layers.MaxPooling2D(2,2),\n",
    "                         keras.layers.Flatten(), \n",
    "                         keras.layers.Dense(units = 128 , activation = 'relu' ), \n",
    "                         keras.layers.Dense(units = 1 , activation = 'sigmoid')\n",
    "                         ])"
   ]
  },
  {
   "cell_type": "code",
   "execution_count": 5,
   "metadata": {},
   "outputs": [],
   "source": [
    "model.compile(optimizer = RMSprop(lr=0.001) , loss = 'binary_crossentropy' , metrics = ['accuracy'])"
   ]
  },
  {
   "cell_type": "code",
   "execution_count": null,
   "metadata": {},
   "outputs": [
    {
     "name": "stdout",
     "output_type": "stream",
     "text": [
      "Epoch 1/3\n"
     ]
    }
   ],
   "source": [
    "history = model.fit(train_g , steps_per_epoch = 8 , epochs = 3 , verbose = 2)"
   ]
  },
  {
   "cell_type": "code",
   "execution_count": null,
   "metadata": {},
   "outputs": [],
   "source": [
    "img = load_img('horse1.jpg' , target_size = (300 ,300))"
   ]
  },
  {
   "cell_type": "code",
   "execution_count": null,
   "metadata": {},
   "outputs": [],
   "source": [
    "img_array = np.array(img)"
   ]
  },
  {
   "cell_type": "code",
   "execution_count": null,
   "metadata": {},
   "outputs": [],
   "source": [
    "img_array.shape"
   ]
  },
  {
   "cell_type": "code",
   "execution_count": null,
   "metadata": {},
   "outputs": [],
   "source": [
    "img_array = np.expand_dims(img_array , axis= 0)"
   ]
  },
  {
   "cell_type": "code",
   "execution_count": null,
   "metadata": {},
   "outputs": [],
   "source": [
    "img_array.shape"
   ]
  },
  {
   "cell_type": "code",
   "execution_count": null,
   "metadata": {},
   "outputs": [],
   "source": [
    "model.predict(img_array)"
   ]
  },
  {
   "cell_type": "code",
   "execution_count": null,
   "metadata": {},
   "outputs": [],
   "source": [
    "img = load_img('horse2.jpg' , target_size = (300 ,300))\n",
    "img_array = np.array(img)\n",
    "img_array = np.expand_dims(img_array , axis= 0)\n",
    "model.predict(img_array)"
   ]
  },
  {
   "cell_type": "code",
   "execution_count": null,
   "metadata": {},
   "outputs": [],
   "source": [
    "img = load_img('women2.jpg' , target_size = (300 ,300))\n",
    "img_array = np.array(img)\n",
    "img_array = np.expand_dims(img_array , axis= 0)\n",
    "model.predict(img_array)"
   ]
  },
  {
   "cell_type": "code",
   "execution_count": null,
   "metadata": {},
   "outputs": [],
   "source": [
    "img = load_img('women3.jpg' , target_size = (300 ,300))\n",
    "img_array = np.array(img)\n",
    "img_array = np.expand_dims(img_array , axis= 0)\n",
    "model.predict(img_array , batch_size = 1)"
   ]
  },
  {
   "cell_type": "code",
   "execution_count": null,
   "metadata": {},
   "outputs": [],
   "source": [
    "img = load_img('women1.jpg' , target_size = (300 ,300))\n",
    "img_array = np.array(img)\n",
    "img_array = np.expand_dims(img_array , axis= 0)\n",
    "model.predict(img_array , batch_size = 1)"
   ]
  },
  {
   "cell_type": "code",
   "execution_count": null,
   "metadata": {},
   "outputs": [],
   "source": [
    "img = load_img('horse3.jpg' , target_size = (300 ,300))\n",
    "img_array = np.array(img)\n",
    "img_array = np.expand_dims(img_array , axis= 0)\n",
    "model.predict(img_array , batch_size = 1)"
   ]
  },
  {
   "cell_type": "code",
   "execution_count": null,
   "metadata": {},
   "outputs": [],
   "source": []
  }
 ],
 "metadata": {
  "kernelspec": {
   "display_name": "Python 3",
   "language": "python",
   "name": "python3"
  },
  "language_info": {
   "codemirror_mode": {
    "name": "ipython",
    "version": 3
   },
   "file_extension": ".py",
   "mimetype": "text/x-python",
   "name": "python",
   "nbconvert_exporter": "python",
   "pygments_lexer": "ipython3",
   "version": "3.8.5"
  }
 },
 "nbformat": 4,
 "nbformat_minor": 4
}
